{
 "cells": [
  {
   "cell_type": "code",
   "execution_count": 2,
   "metadata": {},
   "outputs": [],
   "source": [
    "import pandas as pd\n",
    "import numpy as np"
   ]
  },
  {
   "cell_type": "code",
   "execution_count": 28,
   "metadata": {},
   "outputs": [],
   "source": [
    "months = ['nov', 'dec', 'jan', 'feb', 'mar']\n",
    "ppi = pd.read_csv('input/ppi.csv', sep=';')\n",
    "ppi.sort_values(by='Country',inplace=True)\n",
    "weights = pd.read_csv('input/weights.csv')\n",
    "errors = dict()\n",
    "\n",
    "for i in range(len(months)):\n",
    "    df = pd.read_json('input/point_estimates_'+months[1]+'.json')\n",
    "    df['original'] = ppi[months[i]].values\n",
    "    df['weights'] = weights['Weights'].values\n",
    "    for entries in [col for col in df.columns if col.startswith('entry')]:\n",
    "        df[entries+'_error'] = (df[entries]-df['original'])**2 # squared error\n",
    "        df[entries+'_rel_error'] = ((df[entries]-df['original'])/df['original'])**2 # relative error squared\n",
    "    for error in [col for col in df.columns if col.endswith('error')]:\n",
    "        if error.endswith('rel_error'):\n",
    "            errors[months[i]+error] = np.mean(df[error])\n",
    "            errors[months[i]+error+'_w'] = np.mean(df[error]*df['weights'])\n",
    "        errors[months[i]+error] = np.sqrt(np.mean(df[error]))\n",
    "        errors[months[i]+error+'_w'] = np.sqrt(np.mean(df[error]*df['weights']))"
   ]
  },
  {
   "cell_type": "code",
   "execution_count": 32,
   "metadata": {},
   "outputs": [
    {
     "name": "stderr",
     "output_type": "stream",
     "text": [
      "c:\\Users\\bud07581\\Anaconda3\\lib\\site-packages\\numpy\\core\\fromnumeric.py:3472: FutureWarning: Dropping of nuisance columns in DataFrame reductions (with 'numeric_only=None') is deprecated; in a future version this will raise TypeError.  Select only valid columns before calling the reduction.\n",
      "  return mean(axis=axis, dtype=dtype, out=out, **kwargs)\n"
     ]
    },
    {
     "data": {
      "text/plain": [
       "165.20982905982905"
      ]
     },
     "execution_count": 32,
     "metadata": {},
     "output_type": "execute_result"
    }
   ],
   "source": [
    "np.mean(np.mean(ppi))"
   ]
  },
  {
   "cell_type": "code",
   "execution_count": 21,
   "metadata": {},
   "outputs": [
    {
     "data": {
      "text/plain": [
       "{'noventry_1_error': 9.31338986455688,\n",
       " 'noventry_1_error_w': 9.792939175360367,\n",
       " 'noventry_1_rel_error': 0.051240416906488465,\n",
       " 'noventry_1_rel_error_w': 0.0537847169708851,\n",
       " 'noventry_2_error': 9.388208643743575,\n",
       " 'noventry_2_error_w': 9.959039380613744,\n",
       " 'noventry_2_rel_error': 0.05164014255736408,\n",
       " 'noventry_2_rel_error_w': 0.05492624271930051,\n",
       " 'noventry_3_error': 10.393877635786001,\n",
       " 'noventry_3_error_w': 10.939923182123781,\n",
       " 'noventry_3_rel_error': 0.05728364391147144,\n",
       " 'noventry_3_rel_error_w': 0.06007700363374909,\n",
       " 'noventry_4_error': 10.39432167468965,\n",
       " 'noventry_4_error_w': 10.887080028109533,\n",
       " 'noventry_4_rel_error': 0.059365180084431875,\n",
       " 'noventry_4_rel_error_w': 0.06213520705905798,\n",
       " 'noventry_5_error': 10.818924643178848,\n",
       " 'noventry_5_error_w': 11.194328727180288,\n",
       " 'noventry_5_rel_error': 0.0607207051051414,\n",
       " 'noventry_5_rel_error_w': 0.06248182384980512,\n",
       " 'decentry_1_error': 17.051201175825167,\n",
       " 'decentry_1_error_w': 18.110234038329732,\n",
       " 'decentry_1_rel_error': 0.08056679125800972,\n",
       " 'decentry_1_rel_error_w': 0.08573981592773397,\n",
       " 'decentry_2_error': 16.692824345070694,\n",
       " 'decentry_2_error_w': 17.791807319446438,\n",
       " 'decentry_2_rel_error': 0.0792895179557856,\n",
       " 'decentry_2_rel_error_w': 0.08494260334241416,\n",
       " 'decentry_3_error': 18.777011312936732,\n",
       " 'decentry_3_error_w': 19.96015453925068,\n",
       " 'decentry_3_rel_error': 0.08814907910930554,\n",
       " 'decentry_3_rel_error_w': 0.0938619704347737,\n",
       " 'decentry_4_error': 19.52885439154468,\n",
       " 'decentry_4_error_w': 20.725207988192697,\n",
       " 'decentry_4_rel_error': 0.09161775178621255,\n",
       " 'decentry_4_rel_error_w': 0.09743424203913403,\n",
       " 'decentry_5_error': 20.418437959247814,\n",
       " 'decentry_5_error_w': 21.551746827214444,\n",
       " 'decentry_5_rel_error': 0.09465240089130342,\n",
       " 'decentry_5_rel_error_w': 0.0996466116107751,\n",
       " 'janentry_1_error': 10.113262427282153,\n",
       " 'janentry_1_error_w': 10.99185205224586,\n",
       " 'janentry_1_rel_error': 0.05819441247535793,\n",
       " 'janentry_1_rel_error_w': 0.06369752555959772,\n",
       " 'janentry_2_error': 10.379398974744303,\n",
       " 'janentry_2_error_w': 11.27558475372615,\n",
       " 'janentry_2_rel_error': 0.06016118480544642,\n",
       " 'janentry_2_rel_error_w': 0.06596890083714722,\n",
       " 'janentry_3_error': 11.401248244752043,\n",
       " 'janentry_3_error_w': 12.312596895362585,\n",
       " 'janentry_3_rel_error': 0.06605166505115281,\n",
       " 'janentry_3_rel_error_w': 0.07177805797450552,\n",
       " 'janentry_4_error': 11.910273522661658,\n",
       " 'janentry_4_error_w': 12.850959407464785,\n",
       " 'janentry_4_rel_error': 0.06977128232366707,\n",
       " 'janentry_4_rel_error_w': 0.07569193454920949,\n",
       " 'janentry_5_error': 11.903013867522574,\n",
       " 'janentry_5_error_w': 12.61419990052618,\n",
       " 'janentry_5_rel_error': 0.06829262142798173,\n",
       " 'janentry_5_rel_error_w': 0.07240214668467956,\n",
       " 'febentry_1_error': 13.8839558760906,\n",
       " 'febentry_1_error_w': 15.051731180779889,\n",
       " 'febentry_1_rel_error': 0.07903851079916062,\n",
       " 'febentry_1_rel_error_w': 0.0854946104058523,\n",
       " 'febentry_2_error': 14.076507980428843,\n",
       " 'febentry_2_error_w': 15.23935782515382,\n",
       " 'febentry_2_rel_error': 0.0806774717272997,\n",
       " 'febentry_2_rel_error_w': 0.0872744757850004,\n",
       " 'febentry_3_error': 14.914860942130067,\n",
       " 'febentry_3_error_w': 16.094883682997864,\n",
       " 'febentry_3_rel_error': 0.08548687290886345,\n",
       " 'febentry_3_rel_error_w': 0.09205114585355213,\n",
       " 'febentry_4_error': 15.272776182072867,\n",
       " 'febentry_4_error_w': 16.47777862642712,\n",
       " 'febentry_4_rel_error': 0.0883985269774908,\n",
       " 'febentry_4_rel_error_w': 0.09518076795955178,\n",
       " 'febentry_5_error': 15.727350864573191,\n",
       " 'febentry_5_error_w': 16.868179458995254,\n",
       " 'febentry_5_rel_error': 0.0899253707259746,\n",
       " 'febentry_5_rel_error_w': 0.09605805425977722,\n",
       " 'marentry_1_error': 15.372527943855408,\n",
       " 'marentry_1_error_w': 16.62850367938693,\n",
       " 'marentry_1_rel_error': 0.09164216817929116,\n",
       " 'marentry_1_rel_error_w': 0.09879196908488656,\n",
       " 'marentry_2_error': 15.602514590233893,\n",
       " 'marentry_2_error_w': 16.870987272191915,\n",
       " 'marentry_2_rel_error': 0.09348422833661427,\n",
       " 'marentry_2_rel_error_w': 0.10092543253739139,\n",
       " 'marentry_3_error': 16.29347438983803,\n",
       " 'marentry_3_error_w': 17.558591037744726,\n",
       " 'marentry_3_rel_error': 0.09774532567347084,\n",
       " 'marentry_3_rel_error_w': 0.10503589419879024,\n",
       " 'marentry_4_error': 16.479859502761823,\n",
       " 'marentry_4_error_w': 17.77425006532246,\n",
       " 'marentry_4_rel_error': 0.09956580287247314,\n",
       " 'marentry_4_rel_error_w': 0.10709929102800166,\n",
       " 'marentry_5_error': 16.85557577724975,\n",
       " 'marentry_5_error_w': 18.019988780578462,\n",
       " 'marentry_5_rel_error': 0.10042448146503534,\n",
       " 'marentry_5_rel_error_w': 0.10681051891482525,\n",
       " 'aprentry_1_error': 12.331981907940747,\n",
       " 'aprentry_1_error_w': 13.734221249613444,\n",
       " 'aprentry_1_rel_error': 0.07496303386272381,\n",
       " 'aprentry_1_rel_error_w': 0.08353101640331345,\n",
       " 'aprentry_2_error': 12.512749054020418,\n",
       " 'aprentry_2_error_w': 13.896303665203762,\n",
       " 'aprentry_2_rel_error': 0.07665697880370252,\n",
       " 'aprentry_2_rel_error_w': 0.08536870613831718,\n",
       " 'aprentry_3_error': 12.435879989414145,\n",
       " 'aprentry_3_error_w': 13.586912003018858,\n",
       " 'aprentry_3_rel_error': 0.07695706085697696,\n",
       " 'aprentry_3_rel_error_w': 0.08453469207685795,\n",
       " 'aprentry_4_error': 13.929903884170276,\n",
       " 'aprentry_4_error_w': 15.321122311661403,\n",
       " 'aprentry_4_rel_error': 0.08685315035943955,\n",
       " 'aprentry_4_rel_error_w': 0.09577304876287507,\n",
       " 'aprentry_5_error': 12.681394946052965,\n",
       " 'aprentry_5_error_w': 14.072776714083268,\n",
       " 'aprentry_5_rel_error': 0.07789138950222094,\n",
       " 'aprentry_5_rel_error_w': 0.08633569193522986}"
      ]
     },
     "execution_count": 21,
     "metadata": {},
     "output_type": "execute_result"
    }
   ],
   "source": [
    "errors"
   ]
  },
  {
   "cell_type": "code",
   "execution_count": 24,
   "metadata": {},
   "outputs": [],
   "source": [
    "errors_df = pd.DataFrame(errors, index=[key[0:3] for key in errors])"
   ]
  },
  {
   "cell_type": "code",
   "execution_count": 25,
   "metadata": {},
   "outputs": [],
   "source": [
    "errors_df = errors_df.drop_duplicates(keep='first')"
   ]
  },
  {
   "cell_type": "code",
   "execution_count": 27,
   "metadata": {},
   "outputs": [],
   "source": [
    "errors_df.to_csv('output/errors.csv')"
   ]
  }
 ],
 "metadata": {
  "kernelspec": {
   "display_name": "base",
   "language": "python",
   "name": "python3"
  },
  "language_info": {
   "codemirror_mode": {
    "name": "ipython",
    "version": 3
   },
   "file_extension": ".py",
   "mimetype": "text/x-python",
   "name": "python",
   "nbconvert_exporter": "python",
   "pygments_lexer": "ipython3",
   "version": "3.9.7"
  },
  "orig_nbformat": 4
 },
 "nbformat": 4,
 "nbformat_minor": 2
}
